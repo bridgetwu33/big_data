{
 "cells": [
  {
   "cell_type": "markdown",
   "id": "c47c89e1-7b17-4e1e-a542-83b3572865ad",
   "metadata": {},
   "source": [
    "# Part 1: Setup"
   ]
  },
  {
   "cell_type": "code",
   "execution_count": 1,
   "id": "82a90f88-ef8f-4172-a344-03540ee2a455",
   "metadata": {},
   "outputs": [],
   "source": [
    "import pandas as pd\n",
    "import torch"
   ]
  },
  {
   "cell_type": "code",
   "execution_count": 2,
   "id": "ec52d72e-f76f-460b-848c-0629cf25dbf0",
   "metadata": {},
   "outputs": [],
   "source": [
    "# use pd.read_csv to load CSVs to DataFrames\n",
    "\n",
    "test_df = pd.read_csv(\"test.csv\")\n",
    "train_df = pd.read_csv(\"train.csv\")"
   ]
  },
  {
   "cell_type": "code",
   "execution_count": 3,
   "id": "b1e23770-9074-4b0a-88e1-c093b87496dd",
   "metadata": {},
   "outputs": [],
   "source": [
    "# use df.values to get a numpy array from a DataFrame\n",
    "\n",
    "testX = torch.tensor(test_df.loc[:, \"POS_0_9_CP\":\"POS_90_CP\"].values, dtype=torch.float64)\n",
    "testY = torch.tensor(test_df.loc[:, [\"DTH_CUM_CP\"]].values, dtype=torch.float64)\n",
    "trainX = torch.tensor(train_df.loc[:, \"POS_0_9_CP\":\"POS_90_CP\"].values, dtype=torch.float64)\n",
    "trainY = torch.tensor(train_df.loc[:, [\"DTH_CUM_CP\"]].values, dtype=torch.float64)"
   ]
  },
  {
   "cell_type": "code",
   "execution_count": 4,
   "id": "8715f574-ebae-4b53-80fe-45dd4c3aa5cc",
   "metadata": {},
   "outputs": [
    {
     "data": {
      "text/plain": [
       "83520"
      ]
     },
     "execution_count": 4,
     "metadata": {},
     "output_type": "execute_result"
    }
   ],
   "source": [
    "#q1\n",
    "# how many bytes does trainX consume\n",
    "trainX.nelement() * trainX.element_size()"
   ]
  },
  {
   "cell_type": "code",
   "execution_count": 5,
   "id": "2e4ae35c-8296-48e9-bce8-751166923d9b",
   "metadata": {},
   "outputs": [],
   "source": [
    "# convert trainX to float16\n",
    "trainX_float16 = trainX.to(dtype=torch.float16)\n",
    "\n",
    "# convert back to float64\n",
    "trainX_back_to_float64 = trainX_float16.to(dtype=torch.float64)\n",
    "\n",
    "# subtract the resulting matrix from the original\n",
    "difference = trainX - trainX_back_to_float64\n",
    "\n",
    "# find the biggest absolute difference\n",
    "biggest_difference = torch.max(torch.abs(difference)).item()"
   ]
  },
  {
   "cell_type": "code",
   "execution_count": 6,
   "id": "cce575e9-5826-41ab-8d59-2e439eec82f1",
   "metadata": {},
   "outputs": [
    {
     "data": {
      "text/plain": [
       "0.0"
      ]
     },
     "execution_count": 6,
     "metadata": {},
     "output_type": "execute_result"
    }
   ],
   "source": [
    "#q2\n",
    "# the biggest difference we would have any one cell if we used float16\n",
    "biggest_difference"
   ]
  },
  {
   "cell_type": "code",
   "execution_count": 7,
   "id": "42ce72d7-74e2-468b-bd74-5d028f0520c6",
   "metadata": {},
   "outputs": [
    {
     "data": {
      "text/plain": [
       "False"
      ]
     },
     "execution_count": 7,
     "metadata": {},
     "output_type": "execute_result"
    }
   ],
   "source": [
    "#q3\n",
    "# is a CUDA GPU available on the VM\n",
    "torch.cuda.is_available()"
   ]
  },
  {
   "cell_type": "markdown",
   "id": "ea59da59-5e43-4a37-8c0c-4531bca9c88f",
   "metadata": {},
   "source": [
    "# Part 2: Prediction with Hardcoded Model"
   ]
  },
  {
   "cell_type": "code",
   "execution_count": 8,
   "id": "b62a0b62-fec5-4241-9976-cd65904d4142",
   "metadata": {},
   "outputs": [
    {
     "data": {
      "text/plain": [
       "tensor([[0.0040],\n",
       "        [0.0040],\n",
       "        [0.0040],\n",
       "        [0.0040],\n",
       "        [0.0040],\n",
       "        [0.0040],\n",
       "        [0.0300],\n",
       "        [0.0300],\n",
       "        [0.0300],\n",
       "        [0.0300]], dtype=torch.float64)"
      ]
     },
     "execution_count": 8,
     "metadata": {},
     "output_type": "execute_result"
    }
   ],
   "source": [
    "coef = torch.tensor([\n",
    "        [0.0040],\n",
    "        [0.0040],\n",
    "        [0.0040],\n",
    "        [0.0040],\n",
    "        [0.0040],\n",
    "        [0.0040], # POS_50_59_CP\n",
    "        [0.0300], # POS_60_69_CP\n",
    "        [0.0300],\n",
    "        [0.0300],\n",
    "        [0.0300]\n",
    "], dtype=trainX.dtype)\n",
    "coef"
   ]
  },
  {
   "cell_type": "code",
   "execution_count": 9,
   "id": "8b1ecad4-afeb-4295-9014-bec3c6683456",
   "metadata": {},
   "outputs": [
    {
     "data": {
      "text/plain": [
       "9.844"
      ]
     },
     "execution_count": 9,
     "metadata": {},
     "output_type": "execute_result"
    }
   ],
   "source": [
    "#q4\n",
    "# print the predicted number of deaths in this tract\n",
    "(testX[0] @ coef).item()"
   ]
  },
  {
   "cell_type": "code",
   "execution_count": 10,
   "id": "986afe4b-5af7-4394-aeb3-c87336fc8834",
   "metadata": {},
   "outputs": [],
   "source": [
    "total_deaths = 0.0\n",
    "\n",
    "# loop through each census tract in testX\n",
    "for row in testX:\n",
    "    total_deaths += (row @ coef).item()\n",
    "\n",
    "average_predicted_deaths = total_deaths / testX.size(0)"
   ]
  },
  {
   "cell_type": "code",
   "execution_count": 11,
   "id": "5b2ed864-d502-4459-8529-299d3f91fdce",
   "metadata": {},
   "outputs": [
    {
     "data": {
      "text/plain": [
       "12.073632183908048"
      ]
     },
     "execution_count": 11,
     "metadata": {},
     "output_type": "execute_result"
    }
   ],
   "source": [
    "#q5\n",
    "# the average number of predicted deaths over the whole testX dataset\n",
    "average_predicted_deaths"
   ]
  },
  {
   "cell_type": "markdown",
   "id": "461fcdbd-ec31-4208-8475-00a5e0966931",
   "metadata": {},
   "source": [
    "# Part 3: Optimization"
   ]
  },
  {
   "cell_type": "code",
   "execution_count": 12,
   "id": "6515defc-0eaf-4bfe-a47d-1bcea3b69580",
   "metadata": {},
   "outputs": [
    {
     "data": {
      "text/plain": [
       "19.0"
      ]
     },
     "execution_count": 12,
     "metadata": {},
     "output_type": "execute_result"
    }
   ],
   "source": [
    "#q6\n",
    "# what is y when x is a tensor containing 0.0\n",
    "x = torch.tensor(0.0)\n",
    "y = x ** 2 - 8 * x + 19\n",
    "float(y)"
   ]
  },
  {
   "cell_type": "code",
   "execution_count": 13,
   "id": "797754be-fdd9-41bd-b8da-cffd5e158141",
   "metadata": {},
   "outputs": [
    {
     "data": {
      "text/plain": [
       "3.9999990463256836"
      ]
     },
     "execution_count": 13,
     "metadata": {},
     "output_type": "execute_result"
    }
   ],
   "source": [
    "#q7\n",
    "# what x value minimizes y\n",
    "x = torch.tensor(0.0, requires_grad=True)\n",
    "optimizer = torch.optim.SGD([x], lr=0.05)\n",
    "\n",
    "# optimization loop that uses torch.optim.SGD\n",
    "for epoch in range(5000):\n",
    "    y = x ** 2 - 8 * x + 19 # define the function\n",
    "    y.backward() # compute the gradient\n",
    "    optimizer.step() # perform the optimization step\n",
    "    optimizer.zero_grad() # zero the gradients after updating\n",
    "\n",
    "float(x)"
   ]
  },
  {
   "cell_type": "markdown",
   "id": "6d568530-01f5-4ec8-88f3-21466070995e",
   "metadata": {},
   "source": [
    "# Part 4: Linear Regression"
   ]
  },
  {
   "cell_type": "code",
   "execution_count": 14,
   "id": "a67794ba-6a7b-4f75-a8b5-b241dceda304",
   "metadata": {},
   "outputs": [
    {
     "data": {
      "text/plain": [
       "197.8007662835249"
      ]
     },
     "execution_count": 14,
     "metadata": {},
     "output_type": "execute_result"
    }
   ],
   "source": [
    "#q8\n",
    "# the MSE using this vector of zero coefficients\n",
    "coef = torch.zeros((10, 1), dtype=trainX.dtype)\n",
    "\n",
    "loss_fn = torch.nn.MSELoss()\n",
    "loss = loss_fn(trainX @ coef, trainY)\n",
    "loss.item()"
   ]
  },
  {
   "cell_type": "code",
   "execution_count": 15,
   "id": "99202aa2-071f-411e-ad7b-abcc65ff6dc6",
   "metadata": {},
   "outputs": [],
   "source": [
    "torch.manual_seed(544)\n",
    "ds = torch.utils.data.TensorDataset(trainX, trainY)\n",
    "dl = torch.utils.data.DataLoader(ds, batch_size=50, shuffle=True)"
   ]
  },
  {
   "cell_type": "code",
   "execution_count": 16,
   "id": "e7237afe-bb05-4eff-87fc-5e30ec93e070",
   "metadata": {},
   "outputs": [],
   "source": [
    "loss_fn = torch.nn.MSELoss()\n",
    "coef = torch.zeros((10, 1), dtype=trainX.dtype, requires_grad=True)\n",
    "optimizer = torch.optim.SGD([coef], lr=0.000002)\n",
    "\n",
    "# optimization loop that uses torch.optim.SGD\n",
    "for epoch in range(500):\n",
    "    for batchX, batchY in dl:\n",
    "        predictions = batchX @ coef  # compute predictions\n",
    "        loss = loss_fn(predictions, batchY)  # compute loss\n",
    "        loss.backward()  # compute the gradient\n",
    "        optimizer.step()  # perform the optimization step\n",
    "        optimizer.zero_grad()  # zero the gradients after updating"
   ]
  },
  {
   "cell_type": "code",
   "execution_count": 17,
   "id": "c064cdb2-e21a-4bcb-8626-f82e4c831b96",
   "metadata": {},
   "outputs": [
    {
     "data": {
      "text/plain": [
       "26.8113940147193"
      ]
     },
     "execution_count": 17,
     "metadata": {},
     "output_type": "execute_result"
    }
   ],
   "source": [
    "#q9\n",
    "# the MSE over the training data using the coefficients resulting from the above training\n",
    "loss_fn(trainX @ coef, trainY).item()"
   ]
  },
  {
   "cell_type": "code",
   "execution_count": 18,
   "id": "43f0b471-409c-490d-88b5-02735c36c003",
   "metadata": {},
   "outputs": [
    {
     "data": {
      "text/plain": [
       "29.05854692548551"
      ]
     },
     "execution_count": 18,
     "metadata": {},
     "output_type": "execute_result"
    }
   ],
   "source": [
    "#q10\n",
    "# the MSE over the test data\n",
    "loss_fn(testX @ coef, testY).item()"
   ]
  }
 ],
 "metadata": {
  "kernelspec": {
   "display_name": "Python 3 (ipykernel)",
   "language": "python",
   "name": "python3"
  },
  "language_info": {
   "codemirror_mode": {
    "name": "ipython",
    "version": 3
   },
   "file_extension": ".py",
   "mimetype": "text/x-python",
   "name": "python",
   "nbconvert_exporter": "python",
   "pygments_lexer": "ipython3",
   "version": "3.11.6"
  }
 },
 "nbformat": 4,
 "nbformat_minor": 5
}
